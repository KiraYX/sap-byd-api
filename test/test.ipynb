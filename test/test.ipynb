{
 "cells": [
  {
   "cell_type": "code",
   "execution_count": 1,
   "metadata": {},
   "outputs": [
    {
     "ename": "ModuleNotFoundError",
     "evalue": "No module named 'matplotlib'",
     "output_type": "error",
     "traceback": [
      "\u001b[0;31m---------------------------------------------------------------------------\u001b[0m",
      "\u001b[0;31mModuleNotFoundError\u001b[0m                       Traceback (most recent call last)",
      "Cell \u001b[0;32mIn[1], line 2\u001b[0m\n\u001b[1;32m      1\u001b[0m \u001b[38;5;28;01mimport\u001b[39;00m \u001b[38;5;21;01mnumpy\u001b[39;00m \u001b[38;5;28;01mas\u001b[39;00m \u001b[38;5;21;01mnp\u001b[39;00m\n\u001b[0;32m----> 2\u001b[0m \u001b[38;5;28;01mimport\u001b[39;00m \u001b[38;5;21;01mmatplotlib\u001b[39;00m\u001b[38;5;21;01m.\u001b[39;00m\u001b[38;5;21;01mpyplot\u001b[39;00m \u001b[38;5;28;01mas\u001b[39;00m \u001b[38;5;21;01mplt\u001b[39;00m\n\u001b[1;32m      3\u001b[0m \u001b[38;5;28;01mfrom\u001b[39;00m \u001b[38;5;21;01mscipy\u001b[39;00m\u001b[38;5;21;01m.\u001b[39;00m\u001b[38;5;21;01mstats\u001b[39;00m \u001b[38;5;28;01mimport\u001b[39;00m norm\n\u001b[1;32m      5\u001b[0m \u001b[38;5;66;03m# Parameters\u001b[39;00m\n",
      "\u001b[0;31mModuleNotFoundError\u001b[0m: No module named 'matplotlib'"
     ]
    }
   ],
   "source": [
    "import numpy as np\n",
    "import matplotlib.pyplot as plt\n",
    "from scipy.stats import norm\n",
    "\n",
    "# Parameters\n",
    "mu = 50  # Process mean\n",
    "sigma = 2  # Standard deviation\n",
    "USL = 55  # Upper Specification Limit\n",
    "LSL = 45  # Lower Specification Limit\n",
    "\n",
    "# Generate data for the normal distribution\n",
    "x = np.linspace(30, 70, 1000)\n",
    "y = norm.pdf(x, mu, sigma)\n",
    "\n",
    "# Plot the distribution curve\n",
    "plt.plot(x, y, label='Process Distribution', color='blue')\n",
    "plt.fill_between(x, y, where=(x >= LSL) & (x <= USL), color='green', alpha=0.3, label='Acceptable Range')\n",
    "\n",
    "# Add specification limits\n",
    "plt.axvline(USL, color='red', linestyle='--', label=f'USL = {USL}')\n",
    "plt.axvline(LSL, color='red', linestyle='--', label=f'LSL = {LSL}')\n",
    "plt.axvline(mu, color='black', linestyle='-', label=f'Mean = {mu}')\n",
    "\n",
    "# Show labels\n",
    "plt.title('CP and CPK Graph')\n",
    "plt.xlabel('Measurement')\n",
    "plt.ylabel('Probability Density')\n",
    "plt.legend(loc='upper right')\n",
    "plt.grid(True)\n",
    "plt.show()\n"
   ]
  }
 ],
 "metadata": {
  "kernelspec": {
   "display_name": "venv",
   "language": "python",
   "name": "python3"
  },
  "language_info": {
   "codemirror_mode": {
    "name": "ipython",
    "version": 3
   },
   "file_extension": ".py",
   "mimetype": "text/x-python",
   "name": "python",
   "nbconvert_exporter": "python",
   "pygments_lexer": "ipython3",
   "version": "3.12.3"
  }
 },
 "nbformat": 4,
 "nbformat_minor": 2
}
