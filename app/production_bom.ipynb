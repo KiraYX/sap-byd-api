{
 "cells": [
  {
   "cell_type": "code",
   "execution_count": 2,
   "id": "27a93ba2-05de-4a6a-9473-596641d8fe86",
   "metadata": {},
   "outputs": [
    {
     "name": "stdout",
     "output_type": "stream",
     "text": [
      "/home/kira/projects/sap-byd-api/app\n"
     ]
    },
    {
     "ename": "ModuleNotFoundError",
     "evalue": "No module named 'helper'",
     "output_type": "error",
     "traceback": [
      "\u001b[0;31m---------------------------------------------------------------------------\u001b[0m",
      "\u001b[0;31mModuleNotFoundError\u001b[0m                       Traceback (most recent call last)",
      "Cell \u001b[0;32mIn[2], line 11\u001b[0m\n\u001b[1;32m      9\u001b[0m \u001b[38;5;66;03m# Import the necessary module\u001b[39;00m\n\u001b[1;32m     10\u001b[0m \u001b[38;5;28;01mimport\u001b[39;00m \u001b[38;5;21;01mimportlib\u001b[39;00m\n\u001b[0;32m---> 11\u001b[0m \u001b[38;5;28;01mfrom\u001b[39;00m \u001b[38;5;21;01mhelper\u001b[39;00m\u001b[38;5;21;01m.\u001b[39;00m\u001b[38;5;21;01mbom_template\u001b[39;00m \u001b[38;5;28;01mimport\u001b[39;00m write_df_to_excel\n\u001b[1;32m     13\u001b[0m \u001b[38;5;66;03m# If you've made changes to the bom_template.py file, reload it\u001b[39;00m\n\u001b[1;32m     14\u001b[0m importlib\u001b[38;5;241m.\u001b[39mreload(helper\u001b[38;5;241m.\u001b[39mbom_template)\n",
      "\u001b[0;31mModuleNotFoundError\u001b[0m: No module named 'helper'"
     ]
    }
   ],
   "source": [
    "import pandas as pd\n",
    "import warnings\n",
    "from openpyxl import load_workbook\n",
    "\n",
    "# Check the current working directory\n",
    "import os\n",
    "print(os.getcwd())\n",
    "\n",
    "# Import the necessary module\n",
    "import importlib\n",
    "from helper.bom_template import write_df_to_excel\n",
    "\n",
    "# If you've made changes to the bom_template.py file, reload it\n",
    "importlib.reload(helper.bom_template)\n",
    "\n",
    "# Suppress specific UserWarning from Pandas\n",
    "warnings.filterwarnings(\"ignore\", category=UserWarning, message=\"Data Validation extension is not supported\")\n",
    "\n",
    "# Read the BOM sheet with header in row 2\n",
    "file_path = \"../data/bom275.xlsx\"\n",
    "sheet_name = \"BOM\"\n",
    "df_bom = pd.read_excel(file_path, sheet_name=sheet_name, header=1)\n",
    "\n",
    "# Drop rows where all cells are NaN\n",
    "df_bom = df_bom.dropna(how=\"all\")\n",
    "# Drop columns where all values are NaN\n",
    "df_bom = df_bom.dropna(axis=1, how=\"all\")\n",
    "\n",
    "# Display the total number of rows and columns\n",
    "# print(\"Total rows and columns:\", df_bom.shape)\n",
    "\n",
    "# List all column names\n",
    "column_names = df_bom.columns.tolist()\n",
    "# print(column_names)\n",
    "\n",
    "# Specify the columns you want to keep\n",
    "columns_to_keep = ['所属装配体', '布局号', 'PLM编号', '层级深度', '父层级', '整套总数', 'ERP编号', '物料描述', '单层数量', '单位', '物料种类']\n",
    "\n",
    "# Select only these columns\n",
    "df_bom = df_bom[columns_to_keep]\n",
    "\n",
    "# Convert all values in 'PLM编号' to string before filtering\n",
    "df_bom['PLM编号'] = df_bom['PLM编号'].astype(str)\n",
    "\n",
    "# Drop rows where 'PLM编号' is NaN or not a string (we know all are now strings)\n",
    "df_bom_cleaned = df_bom[df_bom['ERP编号'].notna()]\n",
    "\n",
    "# Create the subset where 'PLM编号' starts with '1.5.'\n",
    "df_bom_electrical_panel = df_bom_cleaned[df_bom_cleaned['PLM编号'].str.startswith('1.5.')]\n",
    "\n",
    "df_bom_electrical_panel = df_bom_electrical_panel[df_bom_electrical_panel['ERP编号'].str.match(r'^\\d{8}$')]\n",
    "\n",
    "df_bom_flipper = df_bom_cleaned[~df_bom_cleaned['PLM编号'].str.startswith('1.5.')]\n",
    "\n",
    "df_bom_flipper = df_bom_flipper[df_bom_flipper['ERP编号'].str.match(r'^\\d{8}$')]\n",
    "\n",
    "df_bom_flipper = df_bom_flipper[df_bom_flipper['PLM编号'].str.startswith('1')]\n",
    "\n",
    "# df_bom_flipper\n",
    "\n",
    "df_finished_goods = df_bom_cleaned[df_bom_cleaned['物料种类'].str.match('产成品')]\n",
    "\n",
    "# display(df_finished_goods)\n",
    "\n",
    "# display(df_bom_flipper)\n",
    "\n",
    "# Select 'ERP编号' and '所属装配体', and rearrange them\n",
    "df_bom_basic = pd.DataFrame({\n",
    "    'ERP编号': df_finished_goods['ERP编号'].astype(str) + '_1',\n",
    "    '语言': '中文',  # All values in this column will be '中文'\n",
    "    '所属装配体': df_finished_goods['所属装配体'],\n",
    "    'BOM类型': '临时'  # All values in this column will be '临时'\n",
    "})\n",
    "\n",
    "display(df_bom_basic)\n",
    "\n",
    "# Call the function to write the DataFrame to Excel\n",
    "write_df_to_excel(df_bom_basic, 'BOM模板.xlsx', '物料清单基本信息', start_row=8, start_col=1)"
   ]
  },
  {
   "cell_type": "code",
   "execution_count": null,
   "id": "598aebe3-b30a-471b-8294-02e7eac852d0",
   "metadata": {},
   "outputs": [],
   "source": []
  }
 ],
 "metadata": {
  "kernelspec": {
   "display_name": "venv",
   "language": "python",
   "name": "python3"
  },
  "language_info": {
   "codemirror_mode": {
    "name": "ipython",
    "version": 3
   },
   "file_extension": ".py",
   "mimetype": "text/x-python",
   "name": "python",
   "nbconvert_exporter": "python",
   "pygments_lexer": "ipython3",
   "version": "3.12.3"
  }
 },
 "nbformat": 4,
 "nbformat_minor": 5
}
